{
 "cells": [
  {
   "cell_type": "code",
   "execution_count": 2,
   "metadata": {},
   "outputs": [
    {
     "name": "stdout",
     "output_type": "stream",
     "text": [
      "The autoreload extension is already loaded. To reload it, use:\n",
      "  %reload_ext autoreload\n"
     ]
    }
   ],
   "source": [
    "%load_ext autoreload\n",
    "%autoreload 2"
   ]
  },
  {
   "cell_type": "code",
   "execution_count": 39,
   "metadata": {},
   "outputs": [],
   "source": [
    "import ssdm"
   ]
  },
  {
   "cell_type": "code",
   "execution_count": 40,
   "metadata": {},
   "outputs": [],
   "source": [
    "from ssdm import harmonix as hmx\n"
   ]
  },
  {
   "cell_type": "code",
   "execution_count": 52,
   "metadata": {},
   "outputs": [],
   "source": [
    "ds = hmx.NewDS('train', infer=False)"
   ]
  },
  {
   "cell_type": "code",
   "execution_count": 54,
   "metadata": {},
   "outputs": [
    {
     "data": {
      "text/plain": [
       "{'data': tensor([[[[ 0.0610,  0.0227,  0.0059,  ...,  0.0347, -0.0583,  0.0042],\n",
       "           [ 0.0610,  0.0242,  0.0042,  ...,  0.0339, -0.0514,  0.0127],\n",
       "           [ 0.0610,  0.0257,  0.0022,  ...,  0.0262, -0.0347,  0.0224],\n",
       "           ...,\n",
       "           [ 0.0610,  0.0375, -0.0245,  ..., -0.2956,  0.1072,  0.0357],\n",
       "           [ 0.0610,  0.0358, -0.0211,  ...,  0.0006, -0.0230, -0.0145],\n",
       "           [ 0.0610,  0.0385, -0.0263,  ..., -0.4015,  0.1510,  0.0517]]]]),\n",
       " 'info': ('0001', 'crema', 'yamnet', 'both'),\n",
       " 'uniq_segs': tensor([4]),\n",
       " 'label': tensor([[0.]]),\n",
       " 'best_layer': tensor([[16.]])}"
      ]
     },
     "execution_count": 54,
     "metadata": {},
     "output_type": "execute_result"
    }
   ],
   "source": [
    "ds[0]"
   ]
  },
  {
   "cell_type": "code",
   "execution_count": null,
   "metadata": {},
   "outputs": [],
   "source": []
  }
 ],
 "metadata": {
  "kernelspec": {
   "display_name": "ssm",
   "language": "python",
   "name": "python3"
  },
  "language_info": {
   "codemirror_mode": {
    "name": "ipython",
    "version": 3
   },
   "file_extension": ".py",
   "mimetype": "text/x-python",
   "name": "python",
   "nbconvert_exporter": "python",
   "pygments_lexer": "ipython3",
   "version": "3.9.19"
  }
 },
 "nbformat": 4,
 "nbformat_minor": 2
}
